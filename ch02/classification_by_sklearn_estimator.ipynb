{
 "cells": [
  {
   "cell_type": "markdown",
   "metadata": {},
   "source": [
    "# 第2章 用 Scikit-Learn 估计其分类"
   ]
  },
  {
   "cell_type": "markdown",
   "metadata": {},
   "source": [
    "## 2.1 scikit-learn估计器"
   ]
  },
  {
   "cell_type": "markdown",
   "metadata": {},
   "source": [
    "### 2.1.3 加载数据集"
   ]
  },
  {
   "cell_type": "code",
   "execution_count": 17,
   "metadata": {},
   "outputs": [],
   "source": [
    "import pandas as pd\n",
    "\n",
    "data_url = \"http://archive.ics.uci.edu/ml/machine-learning-databases/ionosphere/ionosphere.data\"\n",
    "# 一共 35 列，最后一列为 target\n",
    "df = pd.read_csv(data_url, names=[f\"var{i}\" for i in range(34)] + ['target'])\n",
    "df['target'] = df['target'] == 'g'"
   ]
  },
  {
   "cell_type": "markdown",
   "metadata": {},
   "source": [
    "书中的代码，不推荐使用\n",
    "\n",
    "```python\n",
    "import os\n",
    "import csv\n",
    "import numpy as np\n",
    "\n",
    "home_folder = os.path.expanduser(\"~\")\n",
    "data_folder = os.path.join(home_folder, 'data', 'Ionosphere')\n",
    "data_filename = os.path.join(data_folder, 'ionosphere.data')\n",
    "\n",
    "with open(data_filename, 'r') as input_file:\n",
    "    reader = csv.reader(input_file)\n",
    "\n",
    "X = np.zeros((351, 34), dtype='float')\n",
    "y = np.zeros((351,), dtype='bool')\n",
    "\n",
    "for i, row in enumerate(reader):\n",
    "    data = [float(datum) for datum in row[:-1]]\n",
    "    X[i] = data\n",
    "    y[i] = row[-1] == 'g'\n",
    "```"
   ]
  },
  {
   "cell_type": "code",
   "execution_count": null,
   "metadata": {},
   "outputs": [],
   "source": []
  }
 ],
 "metadata": {
  "interpreter": {
   "hash": "53d965b4d16c6bde27ee82f2600c470e5004f7d9fbc37b1901903816b6cbff46"
  },
  "kernelspec": {
   "display_name": "Python 3.7.9 64-bit ('base': conda)",
   "name": "python3"
  },
  "language_info": {
   "codemirror_mode": {
    "name": "ipython",
    "version": 3
   },
   "file_extension": ".py",
   "mimetype": "text/x-python",
   "name": "python",
   "nbconvert_exporter": "python",
   "pygments_lexer": "ipython3",
   "version": "3.7.9"
  },
  "orig_nbformat": 4
 },
 "nbformat": 4,
 "nbformat_minor": 2
}
