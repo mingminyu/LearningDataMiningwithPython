{
 "cells": [
  {
   "cell_type": "markdown",
   "metadata": {},
   "source": [
    "# 1.3 亲和性分析示例"
   ]
  },
  {
   "cell_type": "markdown",
   "metadata": {},
   "source": [
    "## 1.3.3 在NumPy中加载数据集"
   ]
  },
  {
   "cell_type": "code",
   "execution_count": 1,
   "metadata": {},
   "outputs": [
    {
     "data": {
      "text/html": [
       "<div>\n",
       "<style scoped>\n",
       "    .dataframe tbody tr th:only-of-type {\n",
       "        vertical-align: middle;\n",
       "    }\n",
       "\n",
       "    .dataframe tbody tr th {\n",
       "        vertical-align: top;\n",
       "    }\n",
       "\n",
       "    .dataframe thead th {\n",
       "        text-align: right;\n",
       "    }\n",
       "</style>\n",
       "<table border=\"1\" class=\"dataframe\">\n",
       "  <thead>\n",
       "    <tr style=\"text-align: right;\">\n",
       "      <th></th>\n",
       "      <th>bread</th>\n",
       "      <th>milk</th>\n",
       "      <th>cheese</th>\n",
       "      <th>apples</th>\n",
       "      <th>bananas</th>\n",
       "    </tr>\n",
       "  </thead>\n",
       "  <tbody>\n",
       "    <tr>\n",
       "      <th>0</th>\n",
       "      <td>0</td>\n",
       "      <td>0</td>\n",
       "      <td>1</td>\n",
       "      <td>1</td>\n",
       "      <td>1</td>\n",
       "    </tr>\n",
       "    <tr>\n",
       "      <th>1</th>\n",
       "      <td>1</td>\n",
       "      <td>1</td>\n",
       "      <td>0</td>\n",
       "      <td>1</td>\n",
       "      <td>0</td>\n",
       "    </tr>\n",
       "    <tr>\n",
       "      <th>2</th>\n",
       "      <td>1</td>\n",
       "      <td>0</td>\n",
       "      <td>1</td>\n",
       "      <td>1</td>\n",
       "      <td>0</td>\n",
       "    </tr>\n",
       "    <tr>\n",
       "      <th>3</th>\n",
       "      <td>0</td>\n",
       "      <td>0</td>\n",
       "      <td>1</td>\n",
       "      <td>1</td>\n",
       "      <td>1</td>\n",
       "    </tr>\n",
       "    <tr>\n",
       "      <th>4</th>\n",
       "      <td>0</td>\n",
       "      <td>1</td>\n",
       "      <td>0</td>\n",
       "      <td>0</td>\n",
       "      <td>1</td>\n",
       "    </tr>\n",
       "  </tbody>\n",
       "</table>\n",
       "</div>"
      ],
      "text/plain": [
       "   bread  milk  cheese  apples  bananas\n",
       "0      0     0       1       1        1\n",
       "1      1     1       0       1        0\n",
       "2      1     0       1       1        0\n",
       "3      0     0       1       1        1\n",
       "4      0     1       0       0        1"
      ]
     },
     "execution_count": 1,
     "metadata": {},
     "output_type": "execute_result"
    }
   ],
   "source": [
    "# new version: 使用 Pandas 读取\n",
    "import pandas as pd\n",
    "\n",
    "features = [\"bread\", \"milk\", \"cheese\", \"apples\", \"bananas\"]\n",
    "X_new = pd.read_csv(\"./affinity_dataset.txt\", sep=\" \", names=features)\n",
    "n_samples, n_features = X_new.shape\n",
    "X_new[:5]"
   ]
  },
  {
   "cell_type": "code",
   "execution_count": 1,
   "metadata": {},
   "outputs": [
    {
     "name": "stdout",
     "output_type": "stream",
     "text": [
      "[[0. 0. 1. 1. 1.]\n",
      " [1. 1. 0. 1. 0.]\n",
      " [1. 0. 1. 1. 0.]\n",
      " [0. 0. 1. 1. 1.]\n",
      " [0. 1. 0. 0. 1.]]\n"
     ]
    }
   ],
   "source": [
    "import numpy as np\n",
    "\n",
    "dataset_filename = \"./affinity_dataset.txt\"\n",
    "X = np.loadtxt(dataset_filename)\n",
    "n_samples, n_features = X.shape\n",
    "features = [\"bread\", \"milk\", \"cheese\", \"apples\", \"bananas\"]\n",
    "X[:5]"
   ]
  },
  {
   "cell_type": "markdown",
   "metadata": {},
   "source": [
    "## 1.3.4 实现简单的排序规则"
   ]
  },
  {
   "cell_type": "markdown",
   "metadata": {},
   "source": [
    "- **支持度**：数据集中规则鹰眼的次数\n",
    "\n",
    "- **置信度**：衡量规则准确率"
   ]
  },
  {
   "cell_type": "code",
   "execution_count": 2,
   "metadata": {},
   "outputs": [
    {
     "name": "stdout",
     "output_type": "stream",
     "text": [
      "36 people bought Apples.\n"
     ]
    }
   ],
   "source": [
    "# new version\n",
    "print(\"{0} people bought Apples.\".format(X_new[\"apples\"].sum()))"
   ]
  },
  {
   "cell_type": "code",
   "execution_count": 3,
   "metadata": {},
   "outputs": [
    {
     "name": "stdout",
     "output_type": "stream",
     "text": [
      "36 people bought Apples.\n"
     ]
    }
   ],
   "source": [
    "num_apple_purchases = 0\n",
    "\n",
    "for sample in X:\n",
    "    if sample[3] == 1:\n",
    "        num_apple_purchases += 1\n",
    "\n",
    "print(f\"{num_apple_purchases} people bought Apples.\")"
   ]
  },
  {
   "cell_type": "code",
   "execution_count": 3,
   "metadata": {},
   "outputs": [
    {
     "name": "stdout",
     "output_type": "stream",
     "text": [
      "21 cases of the rule being valid were discovered.\n",
      "15 cases of the rule being invalid were discovered.\n"
     ]
    }
   ],
   "source": [
    "# new version\n",
    "rule_valid = X_new.loc[(X_new['apples'] == 1) & (X_new['bananas'] == 1)].shape[0]\n",
    "rule_invalid = X_new.loc[(X_new['apples'] == 1) & (X_new['bananas'] == 0)].shape[0]\n",
    "\n",
    "print(f\"{rule_valid} cases of the rule being valid were discovered.\")\n",
    "print(f\"{rule_invalid} cases of the rule being invalid were discovered.\")"
   ]
  },
  {
   "cell_type": "code",
   "execution_count": 2,
   "metadata": {},
   "outputs": [
    {
     "name": "stdout",
     "output_type": "stream",
     "text": [
      "21 cases of the rule being valid were discovered.\n",
      "15 cases of the rule being invalid were discovered.\n"
     ]
    }
   ],
   "source": [
    "# 买了苹果也买了香蕉\n",
    "rule_valid = 0\n",
    "rule_invalid = 0\n",
    "\n",
    "for sample in X:\n",
    "    if sample[3] == 1:\n",
    "        if sample[4] == 1:\n",
    "            rule_valid += 1\n",
    "        else:\n",
    "            rule_invalid += 1\n",
    "\n",
    "print(f\"{rule_valid} cases of the rule being valid were discovered.\")\n",
    "print(f\"{rule_invalid} cases of the rule being invalid were discovered.\")"
   ]
  },
  {
   "cell_type": "code",
   "execution_count": 6,
   "metadata": {},
   "outputs": [
    {
     "name": "stdout",
     "output_type": "stream",
     "text": [
      "The support is 21 and the confidence is 0.583\n",
      "As a percentage, that is 58.3%.\n"
     ]
    }
   ],
   "source": [
    "support = rule_valid\n",
    "confidence = rule_valid / num_apple_purchases\n",
    "\n",
    "print(f\"The support is {support} and the confidence is {confidence:.3f}\")\n",
    "print(f\"As a percentage, that is {100 * confidence:.1f}%.\")"
   ]
  },
  {
   "cell_type": "code",
   "execution_count": 2,
   "metadata": {},
   "outputs": [],
   "source": [
    "from collections import defaultdict\n",
    "\n",
    "valid_rules = defaultdict(int)\n",
    "invalid_rules = defaultdict(int)\n",
    "num_occurences = defaultdict(int)\n",
    "\n",
    "for sample in X:\n",
    "    for premise in range(4):\n",
    "        if sample[premise] == 0: continue\n",
    "\n",
    "        num_occurences[premise] += 1\n",
    "\n",
    "        for conclusion in range(n_features):\n",
    "            if premise == conclusion: continue\n",
    "        \n",
    "            if sample[conclusion] == 1:\n",
    "                valid_rules[(premise, conclusion)] += 1\n",
    "            else:\n",
    "                invalid_rules[(premise, conclusion)] += 1\n",
    "\n",
    "support = valid_rules\n",
    "confidence = defaultdict(float)\n",
    "\n",
    "for premise, conclusion in valid_rules.keys():\n",
    "    rule = (premise, conclusion)\n",
    "    confidence[rule] = valid_rules[rule] / num_occurences[premise]"
   ]
  },
  {
   "cell_type": "code",
   "execution_count": 4,
   "metadata": {},
   "outputs": [],
   "source": [
    "def print_rule(premise, conclusion, support, confidence, features):\n",
    "    premise_name = features[premise]\n",
    "    conclusion_name = features[conclusion]\n",
    "    print(f\"Rule: If a preson buys {premise_name} they will also buy {conclusion_name}\")\n",
    "    print(\" - Support: {0}\".format(support[premise, conclusion]))\n",
    "    print(\" - Confidence: {0:.3f}\".format(confidence[premise, conclusion]))"
   ]
  },
  {
   "cell_type": "code",
   "execution_count": 9,
   "metadata": {},
   "outputs": [
    {
     "name": "stdout",
     "output_type": "stream",
     "text": [
      "Rule: If a preson buys milk they will also buy apples\n",
      " - Support: 9\n",
      " - Confidence: 0.196\n"
     ]
    }
   ],
   "source": [
    "premise = 1\n",
    "conclusion = 3\n",
    "print_rule(premise, conclusion, support, confidence, features)"
   ]
  },
  {
   "cell_type": "code",
   "execution_count": 5,
   "metadata": {},
   "outputs": [
    {
     "name": "stdout",
     "output_type": "stream",
     "text": [
      "Rule #1\n",
      "Rule: If a preson buys cheese they will also buy bananas\n",
      " - Support: 27\n",
      " - Confidence: 0.659\n",
      "Rule #2\n",
      "Rule: If a preson buys cheese they will also buy apples\n",
      " - Support: 25\n",
      " - Confidence: 0.610\n",
      "Rule #3\n",
      "Rule: If a preson buys apples they will also buy cheese\n",
      " - Support: 25\n",
      " - Confidence: 0.694\n",
      "Rule #4\n",
      "Rule: If a preson buys apples they will also buy bananas\n",
      " - Support: 21\n",
      " - Confidence: 0.583\n",
      "Rule #5\n",
      "Rule: If a preson buys milk they will also buy bananas\n",
      " - Support: 19\n",
      " - Confidence: 0.413\n"
     ]
    }
   ],
   "source": [
    "## 1.3.5 排序找出最佳规则\n",
    "from operator import itemgetter\n",
    "\n",
    "sorted_support = sorted(support.items(), key=itemgetter(1), reverse=True)\n",
    "\n",
    "for idx in range(5):\n",
    "    print(f\"Rule #{idx + 1}\")\n",
    "    premise, conclusion = sorted_support[idx][0]\n",
    "    print_rule(premise, conclusion, support, confidence, features)"
   ]
  },
  {
   "cell_type": "code",
   "execution_count": 6,
   "metadata": {},
   "outputs": [
    {
     "name": "stdout",
     "output_type": "stream",
     "text": [
      "Rule #1\n",
      "Rule: If a preson buys apples they will also buy cheese\n",
      " - Support: 25\n",
      " - Confidence: 0.694\n",
      "Rule #2\n",
      "Rule: If a preson buys cheese they will also buy bananas\n",
      " - Support: 27\n",
      " - Confidence: 0.659\n",
      "Rule #3\n",
      "Rule: If a preson buys bread they will also buy bananas\n",
      " - Support: 17\n",
      " - Confidence: 0.630\n",
      "Rule #4\n",
      "Rule: If a preson buys cheese they will also buy apples\n",
      " - Support: 25\n",
      " - Confidence: 0.610\n",
      "Rule #5\n",
      "Rule: If a preson buys apples they will also buy bananas\n",
      " - Support: 21\n",
      " - Confidence: 0.583\n"
     ]
    }
   ],
   "source": [
    "sorted_confidence = sorted(confidence.items(), key=itemgetter(1), reverse=True)\n",
    "\n",
    "for idx in range(5):\n",
    "    print(f\"Rule #{idx + 1}\")\n",
    "    premise, conclusion = sorted_confidence[idx][0]\n",
    "    print_rule(premise, conclusion, support, confidence, features)"
   ]
  },
  {
   "cell_type": "markdown",
   "metadata": {},
   "source": [
    "# 1.4 分类问题的简单示例"
   ]
  },
  {
   "cell_type": "markdown",
   "metadata": {},
   "source": [
    "# 1.5 什么是分类"
   ]
  },
  {
   "cell_type": "markdown",
   "metadata": {},
   "source": [
    "## 1.5.1 准备数据集"
   ]
  },
  {
   "cell_type": "code",
   "execution_count": 1,
   "metadata": {},
   "outputs": [],
   "source": [
    "import numpy as np\n",
    "from sklearn.datasets import load_iris"
   ]
  },
  {
   "cell_type": "code",
   "execution_count": 9,
   "metadata": {},
   "outputs": [
    {
     "name": "stdout",
     "output_type": "stream",
     "text": [
      ".. _iris_dataset:\n",
      "\n",
      "Iris plants dataset\n",
      "--------------------\n",
      "\n",
      "**Data Set Characteristics:**\n",
      "\n",
      "    :Number of Instances: 150 (50 in each of three classes)\n",
      "    :Number of Attributes: 4 numeric, predictive attributes and the class\n",
      "    :Attribute Information:\n",
      "        - sepal length in cm\n",
      "        - sepal width in cm\n",
      "        - petal length in cm\n",
      "        - petal width in cm\n",
      "        - class:\n",
      "                - Iris-Setosa\n",
      "                - Iris-Versicolour\n",
      "                - Iris-Virginica\n",
      "                \n",
      "    :Summary Statistics:\n",
      "\n",
      "    ============== ==== ==== ======= ===== ====================\n",
      "                    Min  Max   Mean    SD   Class Correlation\n",
      "    ============== ==== ==== ======= ===== ====================\n",
      "    sepal length:   4.3  7.9   5.84   0.83    0.7826\n",
      "    sepal width:    2.0  4.4   3.05   0.43   -0.4194\n",
      "    petal length:   1.0  6.9   3.76   1.76    0.9490  (high!)\n",
      "    petal width:    0.1  2.5   1.20   0.76    0.9565  (high!)\n",
      "    ============== ==== ==== ======= ===== ====================\n",
      "\n",
      "    :Missing Attribute Values: None\n",
      "    :Class Distribution: 33.3% for each of 3 classes.\n",
      "    :Creator: R.A. Fisher\n",
      "    :Donor: Michael Marshall (MARSHALL%PLU@io.arc.nasa.gov)\n",
      "    :Date: July, 1988\n",
      "\n",
      "The famous Iris database, first used by Sir R.A. Fisher. The dataset is taken\n",
      "from Fisher's paper. Note that it's the same as in R, but not as in the UCI\n",
      "Machine Learning Repository, which has two wrong data points.\n",
      "\n",
      "This is perhaps the best known database to be found in the\n",
      "pattern recognition literature.  Fisher's paper is a classic in the field and\n",
      "is referenced frequently to this day.  (See Duda & Hart, for example.)  The\n",
      "data set contains 3 classes of 50 instances each, where each class refers to a\n",
      "type of iris plant.  One class is linearly separable from the other 2; the\n",
      "latter are NOT linearly separable from each other.\n",
      "\n",
      ".. topic:: References\n",
      "\n",
      "   - Fisher, R.A. \"The use of multiple measurements in taxonomic problems\"\n",
      "     Annual Eugenics, 7, Part II, 179-188 (1936); also in \"Contributions to\n",
      "     Mathematical Statistics\" (John Wiley, NY, 1950).\n",
      "   - Duda, R.O., & Hart, P.E. (1973) Pattern Classification and Scene Analysis.\n",
      "     (Q327.D83) John Wiley & Sons.  ISBN 0-471-22361-1.  See page 218.\n",
      "   - Dasarathy, B.V. (1980) \"Nosing Around the Neighborhood: A New System\n",
      "     Structure and Classification Rule for Recognition in Partially Exposed\n",
      "     Environments\".  IEEE Transactions on Pattern Analysis and Machine\n",
      "     Intelligence, Vol. PAMI-2, No. 1, 67-71.\n",
      "   - Gates, G.W. (1972) \"The Reduced Nearest Neighbor Rule\".  IEEE Transactions\n",
      "     on Information Theory, May 1972, 431-433.\n",
      "   - See also: 1988 MLC Proceedings, 54-64.  Cheeseman et al\"s AUTOCLASS II\n",
      "     conceptual clustering system finds 3 classes in the data.\n",
      "   - Many, many more ...\n"
     ]
    }
   ],
   "source": [
    "dataset = load_iris()\n",
    "X = dataset.data\n",
    "y = dataset.target\n",
    "print(dataset.DESCR)"
   ]
  },
  {
   "cell_type": "code",
   "execution_count": 10,
   "metadata": {},
   "outputs": [
    {
     "data": {
      "text/plain": [
       "array([5.84333333, 3.05733333, 3.758     , 1.19933333])"
      ]
     },
     "execution_count": 10,
     "metadata": {},
     "output_type": "execute_result"
    }
   ],
   "source": [
    "attributes_mean = X.mean(axis=0)\n",
    "attributes_mean"
   ]
  },
  {
   "cell_type": "code",
   "execution_count": 15,
   "metadata": {},
   "outputs": [
    {
     "data": {
      "text/plain": [
       "array([[0, 1, 0, 0],\n",
       "       [0, 0, 0, 0],\n",
       "       [0, 1, 0, 0],\n",
       "       [0, 1, 0, 0],\n",
       "       [0, 1, 0, 0]])"
      ]
     },
     "execution_count": 15,
     "metadata": {},
     "output_type": "execute_result"
    }
   ],
   "source": [
    "X_d = np.array(X >= attributes_mean, dtype='int')\n",
    "X_d[:5]"
   ]
  },
  {
   "cell_type": "markdown",
   "metadata": {},
   "source": [
    "## 1.5.2 实现 OneR 算法"
   ]
  },
  {
   "cell_type": "code",
   "execution_count": 16,
   "metadata": {},
   "outputs": [],
   "source": [
    "from collections import defaultdict\n",
    "from operator import itemgetter\n",
    "\n",
    "\n",
    "def train_feature_value(X, y_true, feature_index, value):\n",
    "    \"\"\"使用 OneR 算法，对于给定特征，计算 predictors 和 error\n",
    "\n",
    "    Args:\n",
    "        X ([ndarray]): 训练集\n",
    "        y_true ([ndarray]): 真实 Label\n",
    "        feature_index ([int]): 特征索引\n",
    "        value ([type]): 特征值\n",
    "\n",
    "    Returns:\n",
    "        [tuple]: 返回频率最多的 class 和 error\n",
    "    \"\"\"\n",
    "    class_counts = defaultdict(int)\n",
    "\n",
    "    for sample, y in zip(X, y_true):\n",
    "        if sample[feature_index] == value:\n",
    "            class_counts[y] += 1\n",
    "\n",
    "    sorted_class_counts = sorted(class_counts.items(), key=itemgetter(1), reverse=True)\n",
    "    most_frequent_class = sorted_class_counts[0][0]\n",
    "\n",
    "    # 计算该条规则的错误率\n",
    "    incorrect_predictions = [class_count for class_value, class_count in class_counts.items()\n",
    "                                        if class_value != most_frequent_class]\n",
    "    error = sum(incorrect_predictions)\n",
    "\n",
    "    return most_frequent_class, error"
   ]
  },
  {
   "cell_type": "code",
   "execution_count": 56,
   "metadata": {},
   "outputs": [],
   "source": [
    "def train_on_feature(X, y_true, feature_index):\n",
    "    values = set(X[:, feature_index])\n",
    "    predictors, errors = {}, []\n",
    "\n",
    "    for current_value in values:\n",
    "        most_frequent_class, error = train_feature_value(X, y_true, feature_index, current_value)\n",
    "        predictors[current_value] = most_frequent_class\n",
    "        errors.append(error)\n",
    "\n",
    "    total_error = sum(errors)\n",
    "    return predictors, total_error"
   ]
  },
  {
   "cell_type": "markdown",
   "metadata": {},
   "source": [
    "## 1.5.3 测试算法"
   ]
  },
  {
   "cell_type": "code",
   "execution_count": 63,
   "metadata": {},
   "outputs": [],
   "source": [
    "from sklearn.model_selection import train_test_split\n",
    "\n",
    "\n",
    "Xd_train, Xd_test, y_train, y_test = train_test_split(X_d, y, random_state=14)\n",
    "all_predictors, errors = {}, {}\n",
    "\n",
    "for feature_index in range(Xd_train.shape[1]):\n",
    "    predcitors, total_error = train_on_feature(Xd_train, y_train, feature_index)\n",
    "    all_predictors[feature_index] = (predcitors, total_error)\n",
    "    errors[feature_index] = total_error\n",
    "\n",
    "best_feature, best_error = sorted(errors.items(), key=itemgetter(1))[0]\n",
    "model = {'variable': best_feature, 'predictor': all_predictors[best_feature][0]}"
   ]
  },
  {
   "cell_type": "code",
   "execution_count": 65,
   "metadata": {},
   "outputs": [],
   "source": [
    "def predict(X_test, model):\n",
    "\n",
    "    variable = model['variable']\n",
    "    predictor = model['predictor']\n",
    "    y_predicted = np.array([predictor[int(sample[variable])] for sample in X_test])\n",
    "    return y_predicted"
   ]
  },
  {
   "cell_type": "code",
   "execution_count": 66,
   "metadata": {},
   "outputs": [
    {
     "name": "stdout",
     "output_type": "stream",
     "text": [
      "The test accuracy is 65.8%\n"
     ]
    }
   ],
   "source": [
    "y_predicted = predict(Xd_test, model)\n",
    "accuracy = np.mean(y_predicted == y_test) * 100\n",
    "print(f\"The test accuracy is {accuracy:.1f}%\")"
   ]
  },
  {
   "cell_type": "code",
   "execution_count": null,
   "metadata": {},
   "outputs": [],
   "source": []
  }
 ],
 "metadata": {
  "interpreter": {
   "hash": "53d965b4d16c6bde27ee82f2600c470e5004f7d9fbc37b1901903816b6cbff46"
  },
  "kernelspec": {
   "display_name": "Python 3.7.9 64-bit ('base': conda)",
   "name": "python3"
  },
  "language_info": {
   "codemirror_mode": {
    "name": "ipython",
    "version": 3
   },
   "file_extension": ".py",
   "mimetype": "text/x-python",
   "name": "python",
   "nbconvert_exporter": "python",
   "pygments_lexer": "ipython3",
   "version": "3.7.9"
  },
  "orig_nbformat": 4
 },
 "nbformat": 4,
 "nbformat_minor": 2
}
